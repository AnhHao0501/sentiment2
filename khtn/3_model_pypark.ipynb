{
 "cells": [
  {
   "cell_type": "markdown",
   "metadata": {},
   "source": [
    "Lựa chọn thuật toán phù hợp trong môn Big Data\n",
    "Machine Learning    \n",
    "(chọn ít nhất 2 thuật toán để thực hiện\n",
    "và đánh giá)"
   ]
  },
  {
   "cell_type": "code",
   "execution_count": 39,
   "metadata": {},
   "outputs": [],
   "source": [
    "import findspark\n",
    "findspark.init()\n",
    "import pyspark"
   ]
  },
  {
   "cell_type": "code",
   "execution_count": 66,
   "metadata": {},
   "outputs": [],
   "source": [
    "from pyspark.sql import SparkSession\n",
    "from pyspark.sql.functions import col, when\n",
    "from pyspark.ml.feature import Tokenizer, StopWordsRemover, CountVectorizer, IDF, StringIndexer\n",
    "from pyspark.ml.classification import LogisticRegression, RandomForestClassifier\n",
    "from pyspark.ml.evaluation import MulticlassClassificationEvaluator\n",
    "from pyspark.ml import Pipeline\n",
    "import time\n",
    "from pyspark.sql import functions as F"
   ]
  },
  {
   "cell_type": "code",
   "execution_count": 41,
   "metadata": {},
   "outputs": [],
   "source": [
    "# Tạo SparkSession\n",
    "spark = SparkSession.builder.appName(\"SentimentAnalysis\").getOrCreate()"
   ]
  },
  {
   "cell_type": "code",
   "execution_count": 42,
   "metadata": {},
   "outputs": [],
   "source": [
    "df = spark.read.csv('Danh_gia_cleaned_updated.csv', header=True, inferSchema=True)"
   ]
  },
  {
   "cell_type": "code",
   "execution_count": 43,
   "metadata": {},
   "outputs": [
    {
     "name": "stdout",
     "output_type": "stream",
     "text": [
      "+-------------+--------------------+--------------+-------------+------+-----------+--------------------+\n",
      "|ma_khach_hang|  noi_dung_binh_luan|ngay_binh_luan|gio_binh_luan|so_sao|ma_san_pham|         content_new|\n",
      "+-------------+--------------------+--------------+-------------+------+-----------+--------------------+\n",
      "|          443|SỬ DỤNG DỄ DÀNG, ...|    29/04/2023|        17:06|     5|  308500015|   dễ_dàng thoải_mái|\n",
      "|         1030|Sử dụng dễ dãng,r...|    30/04/2023|        15:04|     5|  308500015|   dễ_dàng thoải_mái|\n",
      "|          689|Mình rất thích ha...|    30/04/2023|        18:34|     5|  422216594|    thích hasaki_tẩy|\n",
      "|         2519|Sản phẩm có khả n...|    17/07/2022|        13:48|     5|  204100075|sạch tốt loại_bỏ ...|\n",
      "|          402|Sữa rửa mặt tốt,s...|    15/04/2023|        23:04|     5|  422208977|    rửa tốt sạch mịn|\n",
      "|         2517|Sau 77 49 dòng sr...|    25/12/2022|        17:11|     5|  204100019|chân_ái thử khô k...|\n",
      "|         1750|Đó giờ mình sài b...|      9/7/2022|         4:34|     5|  100220035|xài đổi kèm tặng trừ|\n",
      "|         3394|Rất ok mình xài 2...|      7/7/2022|        11:18|     5|  204100024|          đồng_ý xài|\n",
      "|         1817|Mik bị kich ứng, ...|      5/2/2024|         3:50|     4|  422216354|ứng không_hợp sản...|\n",
      "|         3556|nhân viên tư vấn ...|     12/9/2023|        22:33|     5|  100250032|tư_vấn đẹp thôi_á...|\n",
      "+-------------+--------------------+--------------+-------------+------+-----------+--------------------+\n",
      "only showing top 10 rows\n",
      "\n"
     ]
    }
   ],
   "source": [
    "# Hiển thị dữ liệu\n",
    "df.show(10)"
   ]
  },
  {
   "cell_type": "code",
   "execution_count": 44,
   "metadata": {},
   "outputs": [
    {
     "name": "stdout",
     "output_type": "stream",
     "text": [
      "+-------------+--------------------+--------------+-------------+------+-----------+--------------------+---------+\n",
      "|ma_khach_hang|  noi_dung_binh_luan|ngay_binh_luan|gio_binh_luan|so_sao|ma_san_pham|         content_new|sentiment|\n",
      "+-------------+--------------------+--------------+-------------+------+-----------+--------------------+---------+\n",
      "|          443|SỬ DỤNG DỄ DÀNG, ...|    29/04/2023|        17:06|     5|  308500015|   dễ_dàng thoải_mái| Positive|\n",
      "|         1030|Sử dụng dễ dãng,r...|    30/04/2023|        15:04|     5|  308500015|   dễ_dàng thoải_mái| Positive|\n",
      "|          689|Mình rất thích ha...|    30/04/2023|        18:34|     5|  422216594|    thích hasaki_tẩy| Positive|\n",
      "|         2519|Sản phẩm có khả n...|    17/07/2022|        13:48|     5|  204100075|sạch tốt loại_bỏ ...| Positive|\n",
      "|          402|Sữa rửa mặt tốt,s...|    15/04/2023|        23:04|     5|  422208977|    rửa tốt sạch mịn| Positive|\n",
      "|         2517|Sau 77 49 dòng sr...|    25/12/2022|        17:11|     5|  204100019|chân_ái thử khô k...| Positive|\n",
      "|         1750|Đó giờ mình sài b...|      9/7/2022|         4:34|     5|  100220035|xài đổi kèm tặng trừ| Positive|\n",
      "|         3394|Rất ok mình xài 2...|      7/7/2022|        11:18|     5|  204100024|          đồng_ý xài| Positive|\n",
      "|         1817|Mik bị kich ứng, ...|      5/2/2024|         3:50|     4|  422216354|ứng không_hợp sản...| Positive|\n",
      "|         3556|nhân viên tư vấn ...|     12/9/2023|        22:33|     5|  100250032|tư_vấn đẹp thôi_á...| Positive|\n",
      "|         2375|Mùi thơm dịu nhe ...|    29/04/2023|        16:52|     5|  422205163|                 mát| Positive|\n",
      "|         2027|Mình khum đánh gi...|    24/10/2022|        18:02|     5|  249500019|khum nâng trắng l...| Positive|\n",
      "|         2928|dù là hay được so...|    27/03/2024|        22:14|     5|  422209718|khô sánh nhma lừa...| Positive|\n",
      "|         3059|Miếng bông quá mỏ...|    19/12/2020|         7:52|     2|  413400001|mỏng thấm tẩy nhũ...| Negative|\n",
      "|         1118|Xài tốt, tẩy tran...|    22/06/2021|         9:30|     5|  422204884|xài sạch xài thíc...| Positive|\n",
      "+-------------+--------------------+--------------+-------------+------+-----------+--------------------+---------+\n",
      "only showing top 15 rows\n",
      "\n"
     ]
    }
   ],
   "source": [
    "df.withColumn('sentiment',when(df['so_sao']>3,'Positive').otherwise('Negative')).show(15)"
   ]
  },
  {
   "cell_type": "code",
   "execution_count": 45,
   "metadata": {},
   "outputs": [],
   "source": [
    "# gắn lại biến sentiment cho df\n",
    "\n",
    "df = df.withColumn('sentiment', when(df['so_sao'] > 3, 'Positive').otherwise('Negative'))\n"
   ]
  },
  {
   "cell_type": "code",
   "execution_count": 46,
   "metadata": {},
   "outputs": [
    {
     "name": "stdout",
     "output_type": "stream",
     "text": [
      "+-------------+--------------------+--------------+-------------+------+-----------+--------------------+---------+\n",
      "|ma_khach_hang|  noi_dung_binh_luan|ngay_binh_luan|gio_binh_luan|so_sao|ma_san_pham|         content_new|sentiment|\n",
      "+-------------+--------------------+--------------+-------------+------+-----------+--------------------+---------+\n",
      "|          443|SỬ DỤNG DỄ DÀNG, ...|    29/04/2023|        17:06|     5|  308500015|   dễ_dàng thoải_mái| Positive|\n",
      "|         1030|Sử dụng dễ dãng,r...|    30/04/2023|        15:04|     5|  308500015|   dễ_dàng thoải_mái| Positive|\n",
      "|          689|Mình rất thích ha...|    30/04/2023|        18:34|     5|  422216594|    thích hasaki_tẩy| Positive|\n",
      "|         2519|Sản phẩm có khả n...|    17/07/2022|        13:48|     5|  204100075|sạch tốt loại_bỏ ...| Positive|\n",
      "|          402|Sữa rửa mặt tốt,s...|    15/04/2023|        23:04|     5|  422208977|    rửa tốt sạch mịn| Positive|\n",
      "|         2517|Sau 77 49 dòng sr...|    25/12/2022|        17:11|     5|  204100019|chân_ái thử khô k...| Positive|\n",
      "|         1750|Đó giờ mình sài b...|      9/7/2022|         4:34|     5|  100220035|xài đổi kèm tặng trừ| Positive|\n",
      "|         3394|Rất ok mình xài 2...|      7/7/2022|        11:18|     5|  204100024|          đồng_ý xài| Positive|\n",
      "|         1817|Mik bị kich ứng, ...|      5/2/2024|         3:50|     4|  422216354|ứng không_hợp sản...| Positive|\n",
      "|         3556|nhân viên tư vấn ...|     12/9/2023|        22:33|     5|  100250032|tư_vấn đẹp thôi_á...| Positive|\n",
      "|         2375|Mùi thơm dịu nhe ...|    29/04/2023|        16:52|     5|  422205163|                 mát| Positive|\n",
      "|         2027|Mình khum đánh gi...|    24/10/2022|        18:02|     5|  249500019|khum nâng trắng l...| Positive|\n",
      "|         2928|dù là hay được so...|    27/03/2024|        22:14|     5|  422209718|khô sánh nhma lừa...| Positive|\n",
      "|         3059|Miếng bông quá mỏ...|    19/12/2020|         7:52|     2|  413400001|mỏng thấm tẩy nhũ...| Negative|\n",
      "|         1118|Xài tốt, tẩy tran...|    22/06/2021|         9:30|     5|  422204884|xài sạch xài thíc...| Positive|\n",
      "+-------------+--------------------+--------------+-------------+------+-----------+--------------------+---------+\n",
      "only showing top 15 rows\n",
      "\n"
     ]
    }
   ],
   "source": [
    "df.show(15)"
   ]
  },
  {
   "cell_type": "code",
   "execution_count": 47,
   "metadata": {},
   "outputs": [],
   "source": [
    "# Chuyển đổi nhãn thành số\n",
    "label_indexer = StringIndexer(inputCol=\"sentiment\", outputCol=\"label\")\n",
    "\n",
    "# Tokenize văn bản\n",
    "tokenizer = Tokenizer(inputCol=\"noi_dung_binh_luan\", outputCol=\"words\")\n",
    "\n",
    "# Loại bỏ stopword\n",
    "\n",
    "remover = StopWordsRemover(inputCol=\"words\", outputCol=\"filtered_words\")\n",
    "\n",
    "# Vector hóa bằng CountVectorizer\n",
    "vectorizer = CountVectorizer(inputCol=\"filtered_words\", outputCol=\"raw_features\")\n",
    "# Áp dụng TF-IDF\n",
    "idf = IDF(inputCol=\"raw_features\", outputCol=\"features\")"
   ]
  },
  {
   "cell_type": "code",
   "execution_count": 48,
   "metadata": {},
   "outputs": [],
   "source": [
    "# Chia dữ liệu thành tập huấn luyện và kiểm tra\n",
    "train, test = df.randomSplit([0.8, 0.2], seed=42)"
   ]
  },
  {
   "cell_type": "code",
   "execution_count": 90,
   "metadata": {},
   "outputs": [],
   "source": [
    "# 1. Logistic Regression\n",
    "logistic_regression = LogisticRegression(featuresCol=\"features\", labelCol=\"label\", maxIter=10)\n",
    "\n",
    "# 2. Random Forest\n",
    "random_forest = RandomForestClassifier(featuresCol=\"features\", labelCol=\"label\", numTrees=100)"
   ]
  },
  {
   "cell_type": "code",
   "execution_count": 93,
   "metadata": {},
   "outputs": [],
   "source": [
    "# Đánh giá mô hình\n",
    "evaluator = MulticlassClassificationEvaluator(labelCol=\"label\", predictionCol=\"prediction\", metricName=\"accuracy\")"
   ]
  },
  {
   "cell_type": "code",
   "execution_count": 94,
   "metadata": {},
   "outputs": [
    {
     "name": "stdout",
     "output_type": "stream",
     "text": [
      "Logistic Regression Accuracy: 0.9765108881820406\n",
      "Thời gian chạy thuật toán 1: 2.8525 giây\n"
     ]
    }
   ],
   "source": [
    "# Pipeline cho Logistic Regression\n",
    "start_time_1 = time.time()\n",
    "pipeline_lr = Pipeline(stages=[label_indexer, tokenizer, remover, vectorizer, idf, logistic_regression])\n",
    "model_lr = pipeline_lr.fit(train)\n",
    "predictions_lr = model_lr.transform(test)\n",
    "accuracy_lr = evaluator.evaluate(predictions_lr)\n",
    "end_time_1 = time.time()\n",
    "execution_time_1 = end_time_1 - start_time_1\n",
    "print(\"Logistic Regression Accuracy:\", accuracy_lr)\n",
    "print(f\"Thời gian chạy thuật toán 1: {execution_time_1:.4f} giây\")"
   ]
  },
  {
   "cell_type": "code",
   "execution_count": 96,
   "metadata": {},
   "outputs": [
    {
     "name": "stdout",
     "output_type": "stream",
     "text": [
      "Random Forest Accuracy: 0.9057988744800587\n",
      "Thời gian chạy thuật toán 2: 10.5463 giây\n"
     ]
    }
   ],
   "source": [
    "# Pipeline cho Random Forest\n",
    "start_time_2 = time.time()\n",
    "pipeline_rf = Pipeline(stages=[label_indexer, tokenizer, remover, vectorizer, idf, random_forest])\n",
    "model_rf = pipeline_rf.fit(train)\n",
    "predictions_rf = model_rf.transform(test)\n",
    "accuracy_rf = evaluator.evaluate(predictions_rf)\n",
    "end_time_2 = time.time()\n",
    "execution_time_2 = end_time_2 - start_time_2\n",
    "print(\"Random Forest Accuracy:\", accuracy_rf)\n",
    "print(f\"Thời gian chạy thuật toán 2: {execution_time_2:.4f} giây\")"
   ]
  },
  {
   "cell_type": "code",
   "execution_count": 67,
   "metadata": {},
   "outputs": [
    {
     "name": "stdout",
     "output_type": "stream",
     "text": [
      "+-------------+-------------+--------------+--------------+\n",
      "|True Positive|True Negative|False Positive|False Negative|\n",
      "+-------------+-------------+--------------+--------------+\n",
      "|          341|         3650|            52|            44|\n",
      "+-------------+-------------+--------------+--------------+\n",
      "\n"
     ]
    }
   ],
   "source": [
    "def calculate_confusion_matrix(predictions):\n",
    "    # So sánh dự đoán và nhãn thực tế\n",
    "    cm = predictions.groupBy('label', 'prediction').count().withColumnRenamed('count', 'TP_FPs')\n",
    "    \n",
    "    # Tạo confusion matrix\n",
    "    cm = cm.withColumn(\n",
    "        'TP', F.when((cm['label'] == cm['prediction']) & (cm['label'] == 1), cm['TP_FPs']).otherwise(0)\n",
    "    ).withColumn(\n",
    "        'TN', F.when((cm['label'] == cm['prediction']) & (cm['label'] == 0), cm['TP_FPs']).otherwise(0)\n",
    "    ).withColumn(\n",
    "        'FP', F.when((cm['label'] != cm['prediction']) & (cm['label'] == 0), cm['TP_FPs']).otherwise(0)\n",
    "    ).withColumn(\n",
    "        'FN', F.when((cm['label'] != cm['prediction']) & (cm['label'] == 1), cm['TP_FPs']).otherwise(0)\n",
    "    )\n",
    "\n",
    "    # Tính tổng các ô confusion matrix\n",
    "    cm = cm.groupBy().agg(\n",
    "        F.sum('TP').alias('True Positive'),\n",
    "        F.sum('TN').alias('True Negative'),\n",
    "        F.sum('FP').alias('False Positive'),\n",
    "        F.sum('FN').alias('False Negative')\n",
    "    )\n",
    "    return cm\n",
    "\n",
    "# Confusion Matrix cho Logistic Regression\n",
    "cm_lr = calculate_confusion_matrix(predictions_lr)\n",
    "cm_lr.show()\n"
   ]
  },
  {
   "cell_type": "code",
   "execution_count": 69,
   "metadata": {},
   "outputs": [
    {
     "name": "stdout",
     "output_type": "stream",
     "text": [
      "+-------------+-------------+--------------+--------------+\n",
      "|True Positive|True Negative|False Positive|False Negative|\n",
      "+-------------+-------------+--------------+--------------+\n",
      "|            0|         3702|             0|           385|\n",
      "+-------------+-------------+--------------+--------------+\n",
      "\n"
     ]
    }
   ],
   "source": [
    "# Tính toán confusion matrix cho Random Forest\n",
    "cm_rf = calculate_confusion_matrix(predictions_rf)\n",
    "cm_rf.show()"
   ]
  },
  {
   "cell_type": "code",
   "execution_count": 74,
   "metadata": {},
   "outputs": [],
   "source": [
    "import matplotlib.pyplot as plt\n",
    "import seaborn as sns\n",
    "import numpy as np"
   ]
  },
  {
   "cell_type": "code",
   "execution_count": 72,
   "metadata": {},
   "outputs": [],
   "source": [
    "# Hàm vẽ confusion matrix\n",
    "def plot_confusion_matrix(cm, labels, model_name):\n",
    "    plt.figure(figsize=(6,6))\n",
    "    sns.heatmap(cm, annot=True, fmt=\"d\", cmap=\"Blues\", xticklabels=labels, yticklabels=labels, cbar=False)\n",
    "    plt.xlabel('Predicted')\n",
    "    plt.ylabel('True')\n",
    "    plt.title(f'Confusion Matrix for {model_name}')\n",
    "    plt.show()"
   ]
  },
  {
   "cell_type": "code",
   "execution_count": 73,
   "metadata": {},
   "outputs": [],
   "source": [
    "# Lấy các giá trị của confusion matrix từ DataFrame\n",
    "cm_lr_values = cm_lr.collect()[0]\n",
    "cm_rf_values = cm_rf.collect()[0]"
   ]
  },
  {
   "cell_type": "code",
   "execution_count": 78,
   "metadata": {},
   "outputs": [
    {
     "data": {
      "image/png": "[encoded data removed]",
      "text/plain": [
       "<Figure size 600x600 with 1 Axes>"
      ]
     },
     "metadata": {},
     "output_type": "display_data"
    },
    {
     "data": {
      "image/png": "[encoded data removed]",
      "text/plain": [
       "<Figure size 600x600 with 1 Axes>"
      ]
     },
     "metadata": {},
     "output_type": "display_data"
    }
   ],
   "source": [
    "# Biểu diễn confusion matrix dưới dạng mảng numpy\n",
    "cm_lr_array = np.array([[cm_lr_values['True Positive'], cm_lr_values['False Positive']],\n",
    "                        [cm_lr_values['False Negative'], cm_lr_values['True Negative']]])\n",
    "\n",
    "cm_rf_array = np.array([[cm_rf_values['True Positive'], cm_rf_values['False Positive']],\n",
    "                        [cm_rf_values['False Negative'], cm_rf_values['True Negative']]])\n",
    "\n",
    "# Lấy các nhãn (0 và 1 cho nhị phân)\n",
    "labels = ['0', '1']\n",
    "\n",
    "# Vẽ confusion matrix cho Logistic Regression\n",
    "plot_confusion_matrix(cm_lr_array, labels, 'Logistic Regression')\n",
    "# Vẽ confusion matrix cho Randomforest\n",
    "plot_confusion_matrix(cm_rf_array, labels, 'Random Forest')"
   ]
  }
 ],
 "metadata": {
  "kernelspec": {
   "display_name": "Python 3 (ipykernel)",
   "language": "python",
   "name": "python3"
  },
  "language_info": {
   "codemirror_mode": {
    "name": "ipython",
    "version": 3
   },
   "file_extension": ".py",
   "mimetype": "text/x-python",
   "name": "python",
   "nbconvert_exporter": "python",
   "pygments_lexer": "ipython3",
   "version": "3.11.5"
  }
 },
 "nbformat": 4,
 "nbformat_minor": 4
}
